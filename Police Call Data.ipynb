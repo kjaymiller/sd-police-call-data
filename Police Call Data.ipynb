{
 "cells": [
  {
   "cell_type": "markdown",
   "metadata": {},
   "source": [
    "# Problem 1 - Data is in CSV files"
   ]
  },
  {
   "cell_type": "markdown",
   "metadata": {},
   "source": [
    "## Attempt 1 - Pandas"
   ]
  },
  {
   "cell_type": "code",
   "execution_count": 26,
   "metadata": {},
   "outputs": [],
   "source": [
    "import pandas as pd\n",
    "import warnings\n",
    "\n",
    "warnings.filterwarnings(\"ignore\")"
   ]
  },
  {
   "cell_type": "markdown",
   "metadata": {},
   "source": [
    "Upload the dataset. For this demo we'll load just one dataset but you could load all the datasets"
   ]
  },
  {
   "cell_type": "code",
   "execution_count": 3,
   "metadata": {},
   "outputs": [
    {
     "data": {
      "text/html": [
       "<div>\n",
       "<style scoped>\n",
       "    .dataframe tbody tr th:only-of-type {\n",
       "        vertical-align: middle;\n",
       "    }\n",
       "\n",
       "    .dataframe tbody tr th {\n",
       "        vertical-align: top;\n",
       "    }\n",
       "\n",
       "    .dataframe thead th {\n",
       "        text-align: right;\n",
       "    }\n",
       "</style>\n",
       "<table border=\"1\" class=\"dataframe\">\n",
       "  <thead>\n",
       "    <tr style=\"text-align: right;\">\n",
       "      <th></th>\n",
       "      <th>call_type</th>\n",
       "      <th>description</th>\n",
       "      <th>Unnamed: 2</th>\n",
       "      <th>Unnamed: 3</th>\n",
       "      <th>Unnamed: 4</th>\n",
       "    </tr>\n",
       "  </thead>\n",
       "  <tbody>\n",
       "    <tr>\n",
       "      <th>0</th>\n",
       "      <td>1016</td>\n",
       "      <td>PRISONER IN CUSTODY</td>\n",
       "      <td></td>\n",
       "      <td></td>\n",
       "      <td></td>\n",
       "    </tr>\n",
       "    <tr>\n",
       "      <th>1</th>\n",
       "      <td>1016PT</td>\n",
       "      <td>PTU (PRISONER TRANSPORT)</td>\n",
       "      <td></td>\n",
       "      <td></td>\n",
       "      <td></td>\n",
       "    </tr>\n",
       "    <tr>\n",
       "      <th>2</th>\n",
       "      <td>1016QC</td>\n",
       "      <td>SHOPLIFTER/QUICK CITE</td>\n",
       "      <td></td>\n",
       "      <td></td>\n",
       "      <td></td>\n",
       "    </tr>\n",
       "    <tr>\n",
       "      <th>3</th>\n",
       "      <td>1021</td>\n",
       "      <td>PHONE YOUR STATION</td>\n",
       "      <td></td>\n",
       "      <td></td>\n",
       "      <td></td>\n",
       "    </tr>\n",
       "    <tr>\n",
       "      <th>4</th>\n",
       "      <td>1021H</td>\n",
       "      <td>PHONE YOUR HOME</td>\n",
       "      <td></td>\n",
       "      <td></td>\n",
       "      <td></td>\n",
       "    </tr>\n",
       "  </tbody>\n",
       "</table>\n",
       "</div>"
      ],
      "text/plain": [
       "  call_type               description Unnamed: 2 Unnamed: 3 Unnamed: 4\n",
       "0      1016       PRISONER IN CUSTODY                                 \n",
       "1    1016PT  PTU (PRISONER TRANSPORT)                                 \n",
       "2    1016QC     SHOPLIFTER/QUICK CITE                                 \n",
       "3      1021        PHONE YOUR STATION                                 \n",
       "4     1021H           PHONE YOUR HOME                                 "
      ]
     },
     "execution_count": 3,
     "metadata": {},
     "output_type": "execute_result"
    }
   ],
   "source": [
    "# Also load call_types for better definitions\n",
    "call_types = pd.read_csv(\n",
    "     \"assets/pd_cfs_calltypes_datasd.csv\",\n",
    "     keep_default_na=False\n",
    ")\n",
    "call_types.head()"
   ]
  },
  {
   "cell_type": "markdown",
   "metadata": {},
   "source": [
    "### Some Helper Scripts we built to Make sure that data was consistent on upload."
   ]
  },
  {
   "cell_type": "code",
   "execution_count": 4,
   "metadata": {},
   "outputs": [],
   "source": [
    "def convert_floats_to_ints(val):\n",
    "    try:\n",
    "        return int(float(val))\n",
    "\n",
    "    except (TypeError, ValueError):\n",
    "        return val\n",
    "\n",
    "\n",
    "def strip_priority(val):\n",
    "    try:\n",
    "        return convert_floats_to_ints(val[0])\n",
    "\n",
    "    except (TypeError, ValueError, IndexError):\n",
    "        return val\n",
    "\n"
   ]
  },
  {
   "cell_type": "code",
   "execution_count": 5,
   "metadata": {},
   "outputs": [
    {
     "data": {
      "text/html": [
       "<div>\n",
       "<style scoped>\n",
       "    .dataframe tbody tr th:only-of-type {\n",
       "        vertical-align: middle;\n",
       "    }\n",
       "\n",
       "    .dataframe tbody tr th {\n",
       "        vertical-align: top;\n",
       "    }\n",
       "\n",
       "    .dataframe thead th {\n",
       "        text-align: right;\n",
       "    }\n",
       "</style>\n",
       "<table border=\"1\" class=\"dataframe\">\n",
       "  <thead>\n",
       "    <tr style=\"text-align: right;\">\n",
       "      <th></th>\n",
       "      <th>incident_num</th>\n",
       "      <th>date_time</th>\n",
       "      <th>day_of_week</th>\n",
       "      <th>address_number_primary</th>\n",
       "      <th>address_dir_primary</th>\n",
       "      <th>address_road_primary</th>\n",
       "      <th>address_sfx_primary</th>\n",
       "      <th>address_dir_intersecting</th>\n",
       "      <th>address_road_intersecting</th>\n",
       "      <th>address_sfx_intersecting</th>\n",
       "      <th>call_type</th>\n",
       "      <th>disposition</th>\n",
       "      <th>beat</th>\n",
       "      <th>priority</th>\n",
       "    </tr>\n",
       "  </thead>\n",
       "  <tbody>\n",
       "    <tr>\n",
       "      <th>0</th>\n",
       "      <td>E21010000001</td>\n",
       "      <td>2021-01-01 00:00:11</td>\n",
       "      <td>6</td>\n",
       "      <td>5000</td>\n",
       "      <td></td>\n",
       "      <td>CHAPARRAL</td>\n",
       "      <td>WAY</td>\n",
       "      <td></td>\n",
       "      <td></td>\n",
       "      <td></td>\n",
       "      <td>AU1</td>\n",
       "      <td>W</td>\n",
       "      <td>326</td>\n",
       "      <td>1</td>\n",
       "    </tr>\n",
       "    <tr>\n",
       "      <th>1</th>\n",
       "      <td>E21010000002</td>\n",
       "      <td>2021-01-01 00:00:14</td>\n",
       "      <td>6</td>\n",
       "      <td>500</td>\n",
       "      <td></td>\n",
       "      <td>05TH</td>\n",
       "      <td>AVE</td>\n",
       "      <td></td>\n",
       "      <td></td>\n",
       "      <td></td>\n",
       "      <td>1186</td>\n",
       "      <td>CAN</td>\n",
       "      <td>523</td>\n",
       "      <td>3</td>\n",
       "    </tr>\n",
       "    <tr>\n",
       "      <th>2</th>\n",
       "      <td>E21010000003</td>\n",
       "      <td>2021-01-01 00:00:26</td>\n",
       "      <td>6</td>\n",
       "      <td>3600</td>\n",
       "      <td></td>\n",
       "      <td>38TH</td>\n",
       "      <td>ST</td>\n",
       "      <td></td>\n",
       "      <td></td>\n",
       "      <td></td>\n",
       "      <td>AU1</td>\n",
       "      <td>DUP</td>\n",
       "      <td>839</td>\n",
       "      <td>1</td>\n",
       "    </tr>\n",
       "    <tr>\n",
       "      <th>3</th>\n",
       "      <td>E21010000004</td>\n",
       "      <td>2021-01-01 00:00:31</td>\n",
       "      <td>6</td>\n",
       "      <td>2700</td>\n",
       "      <td></td>\n",
       "      <td>WORDEN</td>\n",
       "      <td>ST</td>\n",
       "      <td></td>\n",
       "      <td></td>\n",
       "      <td></td>\n",
       "      <td>AU1</td>\n",
       "      <td>W</td>\n",
       "      <td>613</td>\n",
       "      <td>1</td>\n",
       "    </tr>\n",
       "    <tr>\n",
       "      <th>4</th>\n",
       "      <td>E21010000006</td>\n",
       "      <td>2021-01-01 00:01:20</td>\n",
       "      <td>6</td>\n",
       "      <td>800</td>\n",
       "      <td></td>\n",
       "      <td>SAN DIEGO</td>\n",
       "      <td>PL</td>\n",
       "      <td></td>\n",
       "      <td></td>\n",
       "      <td></td>\n",
       "      <td>INFO</td>\n",
       "      <td>W</td>\n",
       "      <td>121</td>\n",
       "      <td>2</td>\n",
       "    </tr>\n",
       "  </tbody>\n",
       "</table>\n",
       "</div>"
      ],
      "text/plain": [
       "   incident_num           date_time  day_of_week  address_number_primary  \\\n",
       "0  E21010000001 2021-01-01 00:00:11            6                    5000   \n",
       "1  E21010000002 2021-01-01 00:00:14            6                     500   \n",
       "2  E21010000003 2021-01-01 00:00:26            6                    3600   \n",
       "3  E21010000004 2021-01-01 00:00:31            6                    2700   \n",
       "4  E21010000006 2021-01-01 00:01:20            6                     800   \n",
       "\n",
       "  address_dir_primary address_road_primary address_sfx_primary  \\\n",
       "0                                CHAPARRAL                 WAY   \n",
       "1                                     05TH                 AVE   \n",
       "2                                     38TH                  ST   \n",
       "3                                   WORDEN                  ST   \n",
       "4                                SAN DIEGO                  PL   \n",
       "\n",
       "  address_dir_intersecting address_road_intersecting address_sfx_intersecting  \\\n",
       "0                                                                               \n",
       "1                                                                               \n",
       "2                                                                               \n",
       "3                                                                               \n",
       "4                                                                               \n",
       "\n",
       "  call_type disposition  beat  priority  \n",
       "0       AU1           W   326         1  \n",
       "1      1186         CAN   523         3  \n",
       "2       AU1         DUP   839         1  \n",
       "3       AU1           W   613         1  \n",
       "4      INFO           W   121         2  "
      ]
     },
     "execution_count": 5,
     "metadata": {},
     "output_type": "execute_result"
    }
   ],
   "source": [
    "csv_file = \"assets/pd_calls_for_service_2021_datasd.csv\"\n",
    "df = pd.read_csv(\n",
    "                csv_file,\n",
    "                keep_default_na=False,\n",
    "                parse_dates=[\"date_time\"],\n",
    "            )\n",
    "df.head()"
   ]
  },
  {
   "cell_type": "markdown",
   "metadata": {},
   "source": [
    "## Let's See What We can Do"
   ]
  },
  {
   "cell_type": "code",
   "execution_count": 6,
   "metadata": {
    "scrolled": true
   },
   "outputs": [
    {
     "data": {
      "text/html": [
       "<div>\n",
       "<style scoped>\n",
       "    .dataframe tbody tr th:only-of-type {\n",
       "        vertical-align: middle;\n",
       "    }\n",
       "\n",
       "    .dataframe tbody tr th {\n",
       "        vertical-align: top;\n",
       "    }\n",
       "\n",
       "    .dataframe thead th {\n",
       "        text-align: right;\n",
       "    }\n",
       "</style>\n",
       "<table border=\"1\" class=\"dataframe\">\n",
       "  <thead>\n",
       "    <tr style=\"text-align: right;\">\n",
       "      <th></th>\n",
       "      <th>incident_num</th>\n",
       "      <th>date_time</th>\n",
       "      <th>day_of_week</th>\n",
       "      <th>address_number_primary</th>\n",
       "      <th>address_dir_primary</th>\n",
       "      <th>address_road_primary</th>\n",
       "      <th>address_sfx_primary</th>\n",
       "      <th>address_dir_intersecting</th>\n",
       "      <th>address_road_intersecting</th>\n",
       "      <th>address_sfx_intersecting</th>\n",
       "      <th>call_type</th>\n",
       "      <th>disposition</th>\n",
       "      <th>beat</th>\n",
       "      <th>priority</th>\n",
       "      <th>description</th>\n",
       "    </tr>\n",
       "  </thead>\n",
       "  <tbody>\n",
       "    <tr>\n",
       "      <th>0</th>\n",
       "      <td>E21010000001</td>\n",
       "      <td>2021-01-01 00:00:11</td>\n",
       "      <td>6</td>\n",
       "      <td>5000</td>\n",
       "      <td></td>\n",
       "      <td>CHAPARRAL</td>\n",
       "      <td>WAY</td>\n",
       "      <td></td>\n",
       "      <td></td>\n",
       "      <td></td>\n",
       "      <td>AU1</td>\n",
       "      <td>W</td>\n",
       "      <td>326</td>\n",
       "      <td>1</td>\n",
       "      <td>ALL UNITS INFORMATION-PRI 1</td>\n",
       "    </tr>\n",
       "    <tr>\n",
       "      <th>1</th>\n",
       "      <td>E21010000002</td>\n",
       "      <td>2021-01-01 00:00:14</td>\n",
       "      <td>6</td>\n",
       "      <td>500</td>\n",
       "      <td></td>\n",
       "      <td>05TH</td>\n",
       "      <td>AVE</td>\n",
       "      <td></td>\n",
       "      <td></td>\n",
       "      <td></td>\n",
       "      <td>1186</td>\n",
       "      <td>CAN</td>\n",
       "      <td>523</td>\n",
       "      <td>3</td>\n",
       "      <td>SPECIAL DETAIL</td>\n",
       "    </tr>\n",
       "    <tr>\n",
       "      <th>2</th>\n",
       "      <td>E21010000003</td>\n",
       "      <td>2021-01-01 00:00:26</td>\n",
       "      <td>6</td>\n",
       "      <td>3600</td>\n",
       "      <td></td>\n",
       "      <td>38TH</td>\n",
       "      <td>ST</td>\n",
       "      <td></td>\n",
       "      <td></td>\n",
       "      <td></td>\n",
       "      <td>AU1</td>\n",
       "      <td>DUP</td>\n",
       "      <td>839</td>\n",
       "      <td>1</td>\n",
       "      <td>ALL UNITS INFORMATION-PRI 1</td>\n",
       "    </tr>\n",
       "    <tr>\n",
       "      <th>3</th>\n",
       "      <td>E21010000004</td>\n",
       "      <td>2021-01-01 00:00:31</td>\n",
       "      <td>6</td>\n",
       "      <td>2700</td>\n",
       "      <td></td>\n",
       "      <td>WORDEN</td>\n",
       "      <td>ST</td>\n",
       "      <td></td>\n",
       "      <td></td>\n",
       "      <td></td>\n",
       "      <td>AU1</td>\n",
       "      <td>W</td>\n",
       "      <td>613</td>\n",
       "      <td>1</td>\n",
       "      <td>ALL UNITS INFORMATION-PRI 1</td>\n",
       "    </tr>\n",
       "    <tr>\n",
       "      <th>4</th>\n",
       "      <td>E21010000006</td>\n",
       "      <td>2021-01-01 00:01:20</td>\n",
       "      <td>6</td>\n",
       "      <td>800</td>\n",
       "      <td></td>\n",
       "      <td>SAN DIEGO</td>\n",
       "      <td>PL</td>\n",
       "      <td></td>\n",
       "      <td></td>\n",
       "      <td></td>\n",
       "      <td>INFO</td>\n",
       "      <td>W</td>\n",
       "      <td>121</td>\n",
       "      <td>2</td>\n",
       "      <td>INFORMATION FOR DISPATCHERS</td>\n",
       "    </tr>\n",
       "  </tbody>\n",
       "</table>\n",
       "</div>"
      ],
      "text/plain": [
       "   incident_num           date_time  day_of_week  address_number_primary  \\\n",
       "0  E21010000001 2021-01-01 00:00:11            6                    5000   \n",
       "1  E21010000002 2021-01-01 00:00:14            6                     500   \n",
       "2  E21010000003 2021-01-01 00:00:26            6                    3600   \n",
       "3  E21010000004 2021-01-01 00:00:31            6                    2700   \n",
       "4  E21010000006 2021-01-01 00:01:20            6                     800   \n",
       "\n",
       "  address_dir_primary address_road_primary address_sfx_primary  \\\n",
       "0                                CHAPARRAL                 WAY   \n",
       "1                                     05TH                 AVE   \n",
       "2                                     38TH                  ST   \n",
       "3                                   WORDEN                  ST   \n",
       "4                                SAN DIEGO                  PL   \n",
       "\n",
       "  address_dir_intersecting address_road_intersecting address_sfx_intersecting  \\\n",
       "0                                                                               \n",
       "1                                                                               \n",
       "2                                                                               \n",
       "3                                                                               \n",
       "4                                                                               \n",
       "\n",
       "  call_type disposition  beat  priority                  description  \n",
       "0       AU1           W   326         1  ALL UNITS INFORMATION-PRI 1  \n",
       "1      1186         CAN   523         3               SPECIAL DETAIL  \n",
       "2       AU1         DUP   839         1  ALL UNITS INFORMATION-PRI 1  \n",
       "3       AU1           W   613         1  ALL UNITS INFORMATION-PRI 1  \n",
       "4      INFO           W   121         2  INFORMATION FOR DISPATCHERS  "
      ]
     },
     "execution_count": 6,
     "metadata": {},
     "output_type": "execute_result"
    }
   ],
   "source": [
    "df_w_call_type = pd.merge(df, call_types[['call_type','description']], on=\"call_type\", how=\"left\").fillna('').drop_duplicates('incident_num')\n",
    "df_w_call_type.head()"
   ]
  },
  {
   "cell_type": "markdown",
   "metadata": {},
   "source": [
    "## The last line is a little ugly let's explain\n",
    "\n",
    "`pd.merge` - combine the our `call types` data with our actual stop data.\n",
    "\n",
    "`.fillna` - creates consistency with the rest of our empty fields (replacing NaN/NA values)\n",
    "\n",
    "`.drop_duplicates` - not sure why duplicates are created but this is common and I discovered that removing the duplicates on the `incident_num` (unique for each call) seems to resolve the issue.\n"
   ]
  },
  {
   "cell_type": "markdown",
   "metadata": {},
   "source": [
    "## Can we make sense of this data?"
   ]
  },
  {
   "cell_type": "code",
   "execution_count": 7,
   "metadata": {},
   "outputs": [],
   "source": [
    "# we're goign to create a sorting help function\n",
    "\n",
    "def sort_group(group):\n",
    "    return sorted(group, key=lambda x:len(x[1]), reverse=True)\n",
    "\n",
    "df_w_call_type[\"beat\"] = df_w_call_type[\"beat\"].apply(convert_floats_to_ints)\n",
    "df_w_call_type[\"priority\"] = df_w_call_type[\"priority\"].apply(strip_priority)"
   ]
  },
  {
   "cell_type": "code",
   "execution_count": 8,
   "metadata": {},
   "outputs": [
    {
     "name": "stdout",
     "output_type": "stream",
     "text": [
      "beat=521, num_of_calls=17040\n",
      "beat=122, num_of_calls=14642\n",
      "beat=524, num_of_calls=11469\n",
      "beat=611, num_of_calls=11064\n",
      "beat=813, num_of_calls=9034\n",
      "beat=627, num_of_calls=9004\n",
      "beat=512, num_of_calls=8779\n",
      "beat=313, num_of_calls=8162\n",
      "beat=614, num_of_calls=8116\n",
      "beat=124, num_of_calls=6913\n"
     ]
    }
   ],
   "source": [
    "#  Calls per Beat in 2021\n",
    "\n",
    "grouped_beats = sort_group(df_w_call_type.groupby('beat'))\n",
    "\n",
    "for beat, group in grouped_beats[:10]:\n",
    "    num_of_calls = len(group)\n",
    "    print(f\"{beat=}, {num_of_calls=}\")"
   ]
  },
  {
   "cell_type": "code",
   "execution_count": 9,
   "metadata": {},
   "outputs": [
    {
     "data": {
      "text/html": [
       "<div>\n",
       "<style scoped>\n",
       "    .dataframe tbody tr th:only-of-type {\n",
       "        vertical-align: middle;\n",
       "    }\n",
       "\n",
       "    .dataframe tbody tr th {\n",
       "        vertical-align: top;\n",
       "    }\n",
       "\n",
       "    .dataframe thead th {\n",
       "        text-align: right;\n",
       "    }\n",
       "</style>\n",
       "<table border=\"1\" class=\"dataframe\">\n",
       "  <thead>\n",
       "    <tr style=\"text-align: right;\">\n",
       "      <th></th>\n",
       "      <th>incident_num</th>\n",
       "      <th>date_time</th>\n",
       "      <th>day_of_week</th>\n",
       "      <th>address_number_primary</th>\n",
       "      <th>address_dir_primary</th>\n",
       "      <th>address_road_primary</th>\n",
       "      <th>address_sfx_primary</th>\n",
       "      <th>address_dir_intersecting</th>\n",
       "      <th>address_road_intersecting</th>\n",
       "      <th>address_sfx_intersecting</th>\n",
       "      <th>call_type</th>\n",
       "      <th>disposition</th>\n",
       "      <th>beat</th>\n",
       "      <th>priority</th>\n",
       "      <th>description</th>\n",
       "    </tr>\n",
       "  </thead>\n",
       "  <tbody>\n",
       "    <tr>\n",
       "      <th>1</th>\n",
       "      <td>E21010000002</td>\n",
       "      <td>2021-01-01 00:00:14</td>\n",
       "      <td>6</td>\n",
       "      <td>500</td>\n",
       "      <td></td>\n",
       "      <td>05TH</td>\n",
       "      <td>AVE</td>\n",
       "      <td></td>\n",
       "      <td></td>\n",
       "      <td></td>\n",
       "      <td>1186</td>\n",
       "      <td>CAN</td>\n",
       "      <td>523</td>\n",
       "      <td>3</td>\n",
       "      <td>SPECIAL DETAIL</td>\n",
       "    </tr>\n",
       "    <tr>\n",
       "      <th>64</th>\n",
       "      <td>E21010000068</td>\n",
       "      <td>2021-01-01 00:28:49</td>\n",
       "      <td>6</td>\n",
       "      <td>500</td>\n",
       "      <td></td>\n",
       "      <td>ISLAND</td>\n",
       "      <td>AVE</td>\n",
       "      <td></td>\n",
       "      <td></td>\n",
       "      <td></td>\n",
       "      <td>586</td>\n",
       "      <td>O</td>\n",
       "      <td>523</td>\n",
       "      <td>4</td>\n",
       "      <td>ILLEGAL PARKING</td>\n",
       "    </tr>\n",
       "    <tr>\n",
       "      <th>76</th>\n",
       "      <td>E21010000081</td>\n",
       "      <td>2021-01-01 00:36:31</td>\n",
       "      <td>6</td>\n",
       "      <td>0</td>\n",
       "      <td></td>\n",
       "      <td>05TH</td>\n",
       "      <td>AVE</td>\n",
       "      <td></td>\n",
       "      <td>F</td>\n",
       "      <td></td>\n",
       "      <td>415</td>\n",
       "      <td>CAN</td>\n",
       "      <td>523</td>\n",
       "      <td>2</td>\n",
       "      <td>DISTURBING PEACE</td>\n",
       "    </tr>\n",
       "    <tr>\n",
       "      <th>242</th>\n",
       "      <td>E21010000253</td>\n",
       "      <td>2021-01-01 03:42:25</td>\n",
       "      <td>6</td>\n",
       "      <td>900</td>\n",
       "      <td></td>\n",
       "      <td>05TH</td>\n",
       "      <td>AVE</td>\n",
       "      <td></td>\n",
       "      <td></td>\n",
       "      <td></td>\n",
       "      <td>1087</td>\n",
       "      <td>K</td>\n",
       "      <td>523</td>\n",
       "      <td>2</td>\n",
       "      <td>MEET OFFICER NON URGENT</td>\n",
       "    </tr>\n",
       "    <tr>\n",
       "      <th>262</th>\n",
       "      <td>E21010000274</td>\n",
       "      <td>2021-01-01 04:20:58</td>\n",
       "      <td>6</td>\n",
       "      <td>0</td>\n",
       "      <td></td>\n",
       "      <td>04TH</td>\n",
       "      <td>AVE</td>\n",
       "      <td></td>\n",
       "      <td>F</td>\n",
       "      <td></td>\n",
       "      <td>415N</td>\n",
       "      <td>K</td>\n",
       "      <td>523</td>\n",
       "      <td>3</td>\n",
       "      <td>DISTURBING PEACE NOISE ONLY</td>\n",
       "    </tr>\n",
       "  </tbody>\n",
       "</table>\n",
       "</div>"
      ],
      "text/plain": [
       "     incident_num           date_time  day_of_week  address_number_primary  \\\n",
       "1    E21010000002 2021-01-01 00:00:14            6                     500   \n",
       "64   E21010000068 2021-01-01 00:28:49            6                     500   \n",
       "76   E21010000081 2021-01-01 00:36:31            6                       0   \n",
       "242  E21010000253 2021-01-01 03:42:25            6                     900   \n",
       "262  E21010000274 2021-01-01 04:20:58            6                       0   \n",
       "\n",
       "    address_dir_primary address_road_primary address_sfx_primary  \\\n",
       "1                                       05TH                 AVE   \n",
       "64                                    ISLAND                 AVE   \n",
       "76                                      05TH                 AVE   \n",
       "242                                     05TH                 AVE   \n",
       "262                                     04TH                 AVE   \n",
       "\n",
       "    address_dir_intersecting address_road_intersecting  \\\n",
       "1                                                        \n",
       "64                                                       \n",
       "76                                                   F   \n",
       "242                                                      \n",
       "262                                                  F   \n",
       "\n",
       "    address_sfx_intersecting call_type disposition  beat  priority  \\\n",
       "1                                 1186         CAN   523         3   \n",
       "64                                 586           O   523         4   \n",
       "76                                 415         CAN   523         2   \n",
       "242                               1087           K   523         2   \n",
       "262                               415N           K   523         3   \n",
       "\n",
       "                     description  \n",
       "1                 SPECIAL DETAIL  \n",
       "64               ILLEGAL PARKING  \n",
       "76              DISTURBING PEACE  \n",
       "242      MEET OFFICER NON URGENT  \n",
       "262  DISTURBING PEACE NOISE ONLY  "
      ]
     },
     "execution_count": 9,
     "metadata": {},
     "output_type": "execute_result"
    }
   ],
   "source": [
    "# Beat 523 Calls\n",
    "\n",
    "beat_523 = df_w_call_type[df_w_call_type.beat==523]\n",
    "beat_523.head()"
   ]
  },
  {
   "cell_type": "code",
   "execution_count": 10,
   "metadata": {},
   "outputs": [
    {
     "name": "stdout",
     "output_type": "stream",
     "text": [
      "intersection=('05TH', 'MARKET'), num_of_calls=314\n",
      "intersection=('05TH', 'G'), num_of_calls=168\n",
      "intersection=('05TH', 'BROADWAY'), num_of_calls=138\n",
      "intersection=('05TH', 'F'), num_of_calls=132\n",
      "intersection=('04TH', 'G'), num_of_calls=118\n"
     ]
    }
   ],
   "source": [
    "# Busiest Intersections for Beat 523\n",
    "\n",
    "intersections = beat_523[beat_523.address_road_intersecting != '']\n",
    "grouped_beats = sort_group(intersections.groupby(['address_road_primary', 'address_road_intersecting']))\n",
    "\n",
    "for intersection, group in grouped_beats[:5]:\n",
    "    num_of_calls = len(group)\n",
    "    print(f\"{intersection=}, {num_of_calls=}\")"
   ]
  },
  {
   "cell_type": "code",
   "execution_count": 11,
   "metadata": {},
   "outputs": [
    {
     "data": {
      "text/plain": [
       "<AxesSubplot:>"
      ]
     },
     "execution_count": 11,
     "metadata": {},
     "output_type": "execute_result"
    },
    {
     "data": {
      "image/png": "[encoded data removed]",
      "text/plain": [
       "<Figure size 432x288 with 1 Axes>"
      ]
     },
     "metadata": {
      "needs_background": "light"
     },
     "output_type": "display_data"
    }
   ],
   "source": [
    "beat_523['priority'].value_counts().plot(kind=\"bar\")"
   ]
  },
  {
   "cell_type": "code",
   "execution_count": 12,
   "metadata": {},
   "outputs": [
    {
     "data": {
      "text/plain": [
       "<AxesSubplot:>"
      ]
     },
     "execution_count": 12,
     "metadata": {},
     "output_type": "execute_result"
    },
    {
     "data": {
      "image/png": "[encoded data removed]",
      "text/plain": [
       "<Figure size 432x288 with 1 Axes>"
      ]
     },
     "metadata": {
      "needs_background": "light"
     },
     "output_type": "display_data"
    }
   ],
   "source": [
    "beat_523['description'].value_counts()[:5].plot(kind=\"bar\")"
   ]
  },
  {
   "cell_type": "markdown",
   "metadata": {},
   "source": [
    "# This is great but a little narrow \n",
    "## Let's Load Data into Elasticsearch"
   ]
  },
  {
   "cell_type": "markdown",
   "metadata": {},
   "source": [
    "## Why Though?\n",
    "\n",
    "- Offload Storage and Processing to Server\n",
    "- Visualization Tools (Kibana Lens)"
   ]
  },
  {
   "cell_type": "markdown",
   "metadata": {},
   "source": [
    "## Let's Look at our Traditional Option"
   ]
  },
  {
   "cell_type": "code",
   "execution_count": 2,
   "metadata": {},
   "outputs": [],
   "source": [
    "from elasticsearch import Elasticsearch\n",
    "from elasticsearch.helpers import bulk\n",
    "import os\n",
    "\n",
    "# Load Client\n",
    "client = Elasticsearch(\n",
    "    hosts=[os.environ[\"ES_HOST\"]],  # for local instance\n",
    ")\n",
    "\n",
    "# upload data to Elasticsearch (because we have the data loaded into pandas we can just export the dataframe to json)\n",
    "#bulk(client=client, index='test_2021_index', actions=df_w_call_type.to_dict('records'))    "
   ]
  },
  {
   "cell_type": "markdown",
   "metadata": {},
   "source": [
    "## Cool Data is in and we can work with it in Kibana\n",
    "\n",
    "# But what did all the work (pandas)\n",
    "\n",
    "`# upload data to Elasticsearch (because we have the data loaded into pandas we can just export the dataframe to json)`\n",
    "\n",
    "## How do we work with the data in python if we start with the data in Elasticsearch?"
   ]
  },
  {
   "cell_type": "code",
   "execution_count": 15,
   "metadata": {
    "scrolled": true
   },
   "outputs": [
    {
     "data": {
      "text/plain": [
       "10"
      ]
     },
     "execution_count": 15,
     "metadata": {},
     "output_type": "execute_result"
    }
   ],
   "source": [
    "results = client.search(\n",
    "    index=\"pd_calls_for_service*\",\n",
    "    body={\n",
    "        \"query\": {\n",
    "            \"match_all\": {}\n",
    "       }\n",
    "    })['hits']['hits']\n",
    "\n",
    "new_df = pd.DataFrame([x['_source'] for x in results])\n",
    "new_df.head()\n",
    "\n",
    "len(new_df)"
   ]
  },
  {
   "cell_type": "markdown",
   "metadata": {},
   "source": [
    "## Can we make changes to this data?\n",
    "\n",
    "[Let's check this](http://jays-mac-mini-3.local:5601/app/dashboards#/view/b5c671c0-3e71-11eb-b5a2-43487ca632dc?_g=(filters:!(),refreshInterval:(pause:!t,value:0),time:(from:now-8y,to:now))&_a=(description:'',filters:!(),fullScreenMode:!f,options:(hidePanelTitles:!f,useMargins:!t),panels:!((embeddableConfig:(),gridData:(h:26,i:'8ad5d19f-c5e0-41c9-89b4-03c6a1e8b09a',w:12,x:0,y:0),id:'13720c30-3f35-11eb-b5a2-43487ca632dc',panelIndex:'8ad5d19f-c5e0-41c9-89b4-03c6a1e8b09a',type:visualization,version:'7.10.0'),(embeddableConfig:(hiddenLayers:!(),isLayerTOCOpen:!f,mapCenter:(lat:32.82517,lon:-116.91398,zoom:8.11),openTOCDetails:!()),gridData:(h:14,i:'40a2aa29-3a4f-4bc6-b5fc-65f97926ede3',w:32,x:12,y:0),id:'4f55ff10-3f33-11eb-b5a2-43487ca632dc',panelIndex:'40a2aa29-3a4f-4bc6-b5fc-65f97926ede3',type:map,version:'7.10.0'),(embeddableConfig:(),gridData:(h:12,i:ea97ada1-6535-42f9-8881-2d616d70a134,w:10,x:23,y:14),id:a939c2c0-3e9b-11eb-b5a2-43487ca632dc,panelIndex:ea97ada1-6535-42f9-8881-2d616d70a134,type:visualization,version:'7.10.0'),(embeddableConfig:(),gridData:(h:12,i:'9fdc5b9f-5f85-4aef-a066-f74c1df2b5cf',w:11,x:33,y:14),id:'1460f8c0-3e74-11eb-b5a2-43487ca632dc',panelIndex:'9fdc5b9f-5f85-4aef-a066-f74c1df2b5cf',type:visualization,version:'7.10.0'),(embeddableConfig:(),gridData:(h:13,i:e18eb168-dc4f-4bb7-83a3-ccb262d34f85,w:12,x:0,y:26),id:c3b65300-3f33-11eb-b5a2-43487ca632dc,panelIndex:e18eb168-dc4f-4bb7-83a3-ccb262d34f85,type:visualization,version:'7.10.0'),(embeddableConfig:(),gridData:(h:13,i:'3c0c0e0f-b33c-4971-a8bf-8a2a7fc2c63a',w:32,x:12,y:26),id:f68052b0-3e9b-11eb-b5a2-43487ca632dc,panelIndex:'3c0c0e0f-b33c-4971-a8bf-8a2a7fc2c63a',type:lens,version:'7.10.0'),(embeddableConfig:(),gridData:(h:11,i:'75a467b0-b343-44dd-a547-d144a9ef629e',w:44,x:0,y:39),id:'7f47ea40-3e74-11eb-b5a2-43487ca632dc',panelIndex:'75a467b0-b343-44dd-a547-d144a9ef629e',type:lens,version:'7.10.0'),(embeddableConfig:(),gridData:(h:15,i:'01918722-445d-4dbd-ace3-0b5f488afd5b',w:44,x:0,y:50),id:fd2eca90-3e75-11eb-b5a2-43487ca632dc,panelIndex:'01918722-445d-4dbd-ace3-0b5f488afd5b',type:lens,version:'7.10.0')),query:(language:kuery,query:''),timeRestore:!f,title:'PD%20Calls%20Overtime',viewMode:edit))\n",
    "\n",
    "Yes, but...\n",
    "In order to do this we need to make the changes in the dataframe and then re-upload."
   ]
  },
  {
   "cell_type": "markdown",
   "metadata": {},
   "source": [
    "## Let's talk about [Eland](https://eland.readthedocs.io/en/7.10.1b1/#)"
   ]
  },
  {
   "cell_type": "markdown",
   "metadata": {},
   "source": [
    "## Eland is Elasticsearch data in a Dataframe view"
   ]
  },
  {
   "cell_type": "markdown",
   "metadata": {},
   "source": [
    "It's like\n",
    "\n",
    "```python\n",
    "results = client.search(\n",
    "    body={\n",
    "        \"size\": 3,\n",
    "        \"query\": {\n",
    "            \"match_all\": {}\n",
    "       }\n",
    "    })['hits']['hits']\n",
    "\n",
    "new_df = pd.DataFrame([x['_source'] for x in results])\n",
    "```\n",
    "\n",
    "but `new_df` is connected to your Elasticsearch instance."
   ]
  },
  {
   "cell_type": "code",
   "execution_count": 23,
   "metadata": {},
   "outputs": [
    {
     "data": {
      "text/plain": [
       "address_dir_intersecting     3869775\n",
       "address_dir_primary          3869775\n",
       "address_number_primary       3869775\n",
       "address_road_intersecting    3869775\n",
       "address_road_primary         3869775\n",
       "address_sfx_intersecting     3869775\n",
       "address_sfx_primary          3869775\n",
       "beat                         3869775\n",
       "call_type                    3869775\n",
       "date_time                    3869775\n",
       "day_of_week                  3869775\n",
       "description                  3869775\n",
       "disposition                  3869775\n",
       "incident_num                 3869775\n",
       "priority                     3869775\n",
       "dtype: int64"
      ]
     },
     "execution_count": 23,
     "metadata": {},
     "output_type": "execute_result"
    }
   ],
   "source": [
    "import eland\n",
    "\n",
    "\n",
    "# all things Elasticsearch use 'es_' as a prefix\n",
    "query = {\n",
    "  \"query\": {\n",
    "    \"simple_query_string\": {\n",
    "        \"query\": '523 description:\"Special Detail\"',\n",
    "        \"fields\": [\n",
    "            \"beat\",\n",
    "            \"description\"]\n",
    "    }\n",
    "  }\n",
    "}\n",
    "edf = eland.DataFrame(\n",
    "    es_client=client,\n",
    "    es_index_pattern=\"pd_calls_for_service*\",\n",
    "    )\n",
    "\n",
    "edf.count()"
   ]
  },
  {
   "cell_type": "code",
   "execution_count": null,
   "metadata": {},
   "outputs": [],
   "source": []
  },
  {
   "cell_type": "code",
   "execution_count": 24,
   "metadata": {
    "scrolled": true
   },
   "outputs": [
    {
     "data": {
      "text/html": [
       "<div>\n",
       "<style scoped>\n",
       "    .dataframe tbody tr th:only-of-type {\n",
       "        vertical-align: middle;\n",
       "    }\n",
       "\n",
       "    .dataframe tbody tr th {\n",
       "        vertical-align: top;\n",
       "    }\n",
       "\n",
       "    .dataframe thead th {\n",
       "        text-align: right;\n",
       "    }\n",
       "</style>\n",
       "<table border=\"1\" class=\"dataframe\">\n",
       "  <thead>\n",
       "    <tr style=\"text-align: right;\">\n",
       "      <th></th>\n",
       "      <th>address_dir_intersecting</th>\n",
       "      <th>address_dir_primary</th>\n",
       "      <th>address_number_primary</th>\n",
       "      <th>address_road_intersecting</th>\n",
       "      <th>address_road_primary</th>\n",
       "      <th>address_sfx_intersecting</th>\n",
       "      <th>address_sfx_primary</th>\n",
       "      <th>beat</th>\n",
       "      <th>call_type</th>\n",
       "      <th>date_time</th>\n",
       "      <th>day_of_week</th>\n",
       "      <th>description</th>\n",
       "      <th>disposition</th>\n",
       "      <th>incident_num</th>\n",
       "      <th>priority</th>\n",
       "    </tr>\n",
       "  </thead>\n",
       "  <tbody>\n",
       "    <tr>\n",
       "      <th>4316</th>\n",
       "      <td></td>\n",
       "      <td></td>\n",
       "      <td>0</td>\n",
       "      <td></td>\n",
       "      <td>BALBOA PARK</td>\n",
       "      <td></td>\n",
       "      <td></td>\n",
       "      <td>531</td>\n",
       "      <td>DEMO</td>\n",
       "      <td>2015-01-03 11:01:50</td>\n",
       "      <td>5</td>\n",
       "      <td>DEMONSTRATION CALLS</td>\n",
       "      <td>O</td>\n",
       "      <td>P15010004267</td>\n",
       "      <td>2</td>\n",
       "    </tr>\n",
       "    <tr>\n",
       "      <th>48781</th>\n",
       "      <td></td>\n",
       "      <td></td>\n",
       "      <td>5200</td>\n",
       "      <td></td>\n",
       "      <td>EL CAJON</td>\n",
       "      <td></td>\n",
       "      <td>BL</td>\n",
       "      <td>824</td>\n",
       "      <td>11-6</td>\n",
       "      <td>2016-01-29 23:30:18</td>\n",
       "      <td>4</td>\n",
       "      <td>DISCHARGING FIREARMS</td>\n",
       "      <td>U</td>\n",
       "      <td>P16010048115</td>\n",
       "      <td>1</td>\n",
       "    </tr>\n",
       "    <tr>\n",
       "      <th>80880</th>\n",
       "      <td></td>\n",
       "      <td></td>\n",
       "      <td>2500</td>\n",
       "      <td></td>\n",
       "      <td>CARRIAGEDALE</td>\n",
       "      <td></td>\n",
       "      <td>RW</td>\n",
       "      <td>124</td>\n",
       "      <td>459</td>\n",
       "      <td>2017-02-16 23:11:59</td>\n",
       "      <td>3</td>\n",
       "      <td>BURGLARY IN PROGRESS</td>\n",
       "      <td>U</td>\n",
       "      <td>P17020027838</td>\n",
       "      <td>1</td>\n",
       "    </tr>\n",
       "    <tr>\n",
       "      <th>16174</th>\n",
       "      <td></td>\n",
       "      <td></td>\n",
       "      <td>5300</td>\n",
       "      <td></td>\n",
       "      <td>EMERALD CREST COURT</td>\n",
       "      <td></td>\n",
       "      <td></td>\n",
       "      <td>725</td>\n",
       "      <td>1185</td>\n",
       "      <td>2018-01-11 09:09:14</td>\n",
       "      <td>3</td>\n",
       "      <td>REQUEST FOR TOW TRUCK</td>\n",
       "      <td>O</td>\n",
       "      <td>E18010015890</td>\n",
       "      <td>3</td>\n",
       "    </tr>\n",
       "    <tr>\n",
       "      <th>43860</th>\n",
       "      <td></td>\n",
       "      <td></td>\n",
       "      <td>300</td>\n",
       "      <td></td>\n",
       "      <td>DATE</td>\n",
       "      <td></td>\n",
       "      <td>ST</td>\n",
       "      <td>529</td>\n",
       "      <td>602</td>\n",
       "      <td>2019-01-28 00:59:06</td>\n",
       "      <td>0</td>\n",
       "      <td>TRESPASSING</td>\n",
       "      <td>K</td>\n",
       "      <td>E19010042425</td>\n",
       "      <td>2</td>\n",
       "    </tr>\n",
       "  </tbody>\n",
       "</table>\n",
       "</div>\n",
       "<p>5 rows × 15 columns</p>"
      ],
      "text/plain": [
       "      address_dir_intersecting address_dir_primary  address_number_primary  \\\n",
       "4316                                                                     0   \n",
       "48781                                                                 5200   \n",
       "80880                                                                 2500   \n",
       "16174                                                                 5300   \n",
       "43860                                                                  300   \n",
       "\n",
       "      address_road_intersecting address_road_primary address_sfx_intersecting  \\\n",
       "4316                                     BALBOA PARK                            \n",
       "48781                                       EL CAJON                            \n",
       "80880                                   CARRIAGEDALE                            \n",
       "16174                            EMERALD CREST COURT                            \n",
       "43860                                           DATE                            \n",
       "\n",
       "      address_sfx_primary  beat call_type           date_time  day_of_week  \\\n",
       "4316                        531      DEMO 2015-01-03 11:01:50            5   \n",
       "48781                  BL   824      11-6 2016-01-29 23:30:18            4   \n",
       "80880                  RW   124       459 2017-02-16 23:11:59            3   \n",
       "16174                       725      1185 2018-01-11 09:09:14            3   \n",
       "43860                  ST   529       602 2019-01-28 00:59:06            0   \n",
       "\n",
       "                 description disposition  incident_num  priority  \n",
       "4316     DEMONSTRATION CALLS           O  P15010004267         2  \n",
       "48781   DISCHARGING FIREARMS           U  P16010048115         1  \n",
       "80880   BURGLARY IN PROGRESS           U  P17020027838         1  \n",
       "16174  REQUEST FOR TOW TRUCK           O  E18010015890         3  \n",
       "43860            TRESPASSING           K  E19010042425         2  \n",
       "\n",
       "[5 rows x 15 columns]"
      ]
     },
     "execution_count": 24,
     "metadata": {},
     "output_type": "execute_result"
    }
   ],
   "source": [
    "edf.head()"
   ]
  },
  {
   "cell_type": "code",
   "execution_count": null,
   "metadata": {
    "scrolled": true
   },
   "outputs": [],
   "source": [
    "# Compared to our original\n",
    "beat_523"
   ]
  },
  {
   "cell_type": "code",
   "execution_count": 5,
   "metadata": {},
   "outputs": [],
   "source": [
    "ebeat_523 = edf[edf.beat==523]"
   ]
  },
  {
   "cell_type": "code",
   "execution_count": null,
   "metadata": {},
   "outputs": [],
   "source": [
    "beat_523['description'].value_counts()[:5].plot(kind=\"bar\")"
   ]
  },
  {
   "cell_type": "code",
   "execution_count": 7,
   "metadata": {},
   "outputs": [
    {
     "data": {
      "text/plain": [
       "<AxesSubplot:>"
      ]
     },
     "execution_count": 7,
     "metadata": {},
     "output_type": "execute_result"
    },
    {
     "data": {
      "image/png": "[encoded data removed]",
      "text/plain": [
       "<Figure size 432x288 with 1 Axes>"
      ]
     },
     "metadata": {
      "needs_background": "light"
     },
     "output_type": "display_data"
    }
   ],
   "source": [
    "ebeat_523['description'].value_counts()[:5].plot(kind=\"bar\")"
   ]
  },
  {
   "cell_type": "code",
   "execution_count": 25,
   "metadata": {},
   "outputs": [
    {
     "data": {
      "text/plain": [
       "<AxesSubplot:>"
      ]
     },
     "execution_count": 25,
     "metadata": {},
     "output_type": "execute_result"
    },
    {
     "data": {
      "image/png": "[encoded data removed]",
      "text/plain": [
       "<Figure size 432x288 with 1 Axes>"
      ]
     },
     "metadata": {
      "needs_background": "light"
     },
     "output_type": "display_data"
    }
   ],
   "source": [
    "sd_pd_data = eland.DataFrame(es_client=client, es_index_pattern=\"pd_calls_for_service_*\")\n",
    "sd_pd_data['description'].value_counts()[:5].plot(kind=\"bar\")"
   ]
  }
 ],
 "metadata": {
  "kernelspec": {
   "display_name": "Python 3 (ipykernel)",
   "language": "python",
   "name": "python3"
  },
  "language_info": {
   "codemirror_mode": {
    "name": "ipython",
    "version": 3
   },
   "file_extension": ".py",
   "mimetype": "text/x-python",
   "name": "python",
   "nbconvert_exporter": "python",
   "pygments_lexer": "ipython3",
   "version": "3.9.1"
  }
 },
 "nbformat": 4,
 "nbformat_minor": 4
}
